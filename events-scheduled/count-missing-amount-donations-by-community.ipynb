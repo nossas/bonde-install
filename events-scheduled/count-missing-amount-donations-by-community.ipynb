{
 "cells": [
  {
   "cell_type": "code",
   "execution_count": null,
   "metadata": {},
   "outputs": [],
   "source": [
    "import pandas as pd\n",
    "df = pd.read_csv('lista_de_doadores_ativos_que_nao_doaram_por_mes_2022-09-13T11 21 57.56963-03 00.csv', index_col=1)\n",
    "df = df.loc[df['month'] == '2022-08']\n",
    "df = df.groupby(by=['community_name']).sum('amount').groupby(level=[0]).cumsum()\n",
    "df"
   ]
  }
 ],
 "metadata": {
  "language_info": {
   "name": "python"
  },
  "orig_nbformat": 4
 },
 "nbformat": 4,
 "nbformat_minor": 2
}
